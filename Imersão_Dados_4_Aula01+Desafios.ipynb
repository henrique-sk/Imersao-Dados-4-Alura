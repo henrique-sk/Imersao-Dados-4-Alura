{
  "nbformat": 4,
  "nbformat_minor": 0,
  "metadata": {
    "colab": {
      "name": "Imersão_Dados_4_Aula01+Desafios.ipynb",
      "provenance": [],
      "toc_visible": true,
      "authorship_tag": "ABX9TyOlVmuNMugAhYNOBHgNAspp",
      "include_colab_link": true
    },
    "kernelspec": {
      "name": "python3",
      "display_name": "Python 3"
    },
    "language_info": {
      "name": "python"
    }
  },
  "cells": [
    {
      "cell_type": "markdown",
      "metadata": {
        "id": "view-in-github",
        "colab_type": "text"
      },
      "source": [
        "<a href=\"https://colab.research.google.com/github/henrique-sk/Imersao-Dados-4-Alura/blob/master/Imers%C3%A3o_Dados_4_Aula01%2BDesafios.ipynb\" target=\"_parent\"><img src=\"https://colab.research.google.com/assets/colab-badge.svg\" alt=\"Open In Colab\"/></a>"
      ]
    },
    {
      "cell_type": "markdown",
      "source": [
        "![logo-mersao.1647533644.svg](data:image/svg+xml;base64,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)"
      ],
      "metadata": {
        "id": "Eby51mnHBA-x"
      }
    },
    {
      "cell_type": "markdown",
      "source": [
        "# Aula 1"
      ],
      "metadata": {
        "id": "meqWTjPgc1lR"
      }
    },
    {
      "cell_type": "code",
      "source": [
        "import pandas as pd\n",
        "\n",
        "url = 'https://gist.githubusercontent.com/tgcsantos/3bdb29eba6ce391e90df2b72205ba891/raw/22fa920e80c9fa209a9fccc8b52d74cc95d1599b/dados_imoveis.csv'\n",
        "dados = pd.read_csv(url)"
      ],
      "metadata": {
        "id": "_QSeIPD7uFdv"
      },
      "execution_count": null,
      "outputs": []
    },
    {
      "cell_type": "code",
      "source": [
        "dados.head()"
      ],
      "metadata": {
        "id": "i7W-JqOEvcq8"
      },
      "execution_count": null,
      "outputs": []
    },
    {
      "cell_type": "code",
      "source": [
        "type(dados)"
      ],
      "metadata": {
        "id": "odmYVxn-xjIt"
      },
      "execution_count": null,
      "outputs": []
    },
    {
      "cell_type": "code",
      "source": [
        "dados"
      ],
      "metadata": {
        "id": "iz-rUyptv59k"
      },
      "execution_count": null,
      "outputs": []
    },
    {
      "cell_type": "code",
      "source": [
        "dados.sample(10)"
      ],
      "metadata": {
        "id": "Zy8Gvk2EwbWj"
      },
      "execution_count": null,
      "outputs": []
    },
    {
      "cell_type": "code",
      "source": [
        "dados['Bairro'].sample(10)"
      ],
      "metadata": {
        "id": "DixQqhkJwh1M"
      },
      "execution_count": null,
      "outputs": []
    },
    {
      "cell_type": "code",
      "source": [
        "dados['Bairro'][6522]"
      ],
      "metadata": {
        "id": "DQ1AeZtXw_qS"
      },
      "execution_count": null,
      "outputs": []
    },
    {
      "cell_type": "code",
      "source": [
        "dados.info()"
      ],
      "metadata": {
        "id": "ZuzD55eJyFYD"
      },
      "execution_count": null,
      "outputs": []
    },
    {
      "cell_type": "code",
      "source": [
        "media_metragem = dados.Metragem.mean()\n",
        "print(f'{media_metragem:.2f}')"
      ],
      "metadata": {
        "id": "LPvZFTr7zWXp"
      },
      "execution_count": null,
      "outputs": []
    },
    {
      "cell_type": "code",
      "source": [
        "dados[\"Metragem\"].mean()"
      ],
      "metadata": {
        "id": "9cF-yyRSctPc"
      },
      "execution_count": null,
      "outputs": []
    },
    {
      "cell_type": "code",
      "source": [
        "(dados['Bairro'] == 'Vila Mariana')*1"
      ],
      "metadata": {
        "id": "hSjpJ6Pszr-z"
      },
      "execution_count": null,
      "outputs": []
    },
    {
      "cell_type": "code",
      "source": [
        "sum(dados['Bairro'] == 'Vila Mariana')"
      ],
      "metadata": {
        "id": "e5L2jHWQ1xKa"
      },
      "execution_count": null,
      "outputs": []
    },
    {
      "cell_type": "code",
      "source": [
        "tem_imoveis_vila_mariana = (dados['Bairro'] == 'Vila Mariana')\n",
        "tem_imoveis_vila_mariana"
      ],
      "metadata": {
        "id": "Gi3TwOu42Mni"
      },
      "execution_count": null,
      "outputs": []
    },
    {
      "cell_type": "code",
      "source": [
        "imoveis_vila_mariana = dados[tem_imoveis_vila_mariana]\n",
        "imoveis_vila_mariana"
      ],
      "metadata": {
        "id": "-dizJO0M2g5x"
      },
      "execution_count": null,
      "outputs": []
    },
    {
      "cell_type": "code",
      "source": [
        "imoveis_vila_mariana['Metragem'].mean()"
      ],
      "metadata": {
        "id": "EkBmKFFf2sFq"
      },
      "execution_count": null,
      "outputs": []
    },
    {
      "cell_type": "code",
      "source": [
        "dados['Bairro'].value_counts()"
      ],
      "metadata": {
        "id": "xd78mQmn3xrK"
      },
      "execution_count": null,
      "outputs": []
    },
    {
      "cell_type": "code",
      "source": [
        "qtd_imoveis_bairro = dados['Bairro'].value_counts()\n",
        "qtd_imoveis_bairro.head(10).plot.bar()"
      ],
      "metadata": {
        "id": "yqxUFNy-6b6a"
      },
      "execution_count": null,
      "outputs": []
    },
    {
      "cell_type": "markdown",
      "source": [
        "## Desafios:"
      ],
      "metadata": {
        "id": "rGYcycjI79jk"
      }
    },
    {
      "cell_type": "markdown",
      "source": [
        "1 - Realizar a média de metragem para cada um dos bairros"
      ],
      "metadata": {
        "id": "lGdqkbWGdHqz"
      }
    },
    {
      "cell_type": "code",
      "source": [
        "media_metragem_por_bairro = dados.groupby('Bairro')['Metragem'].mean()\n",
        "media_metragem_por_bairro"
      ],
      "metadata": {
        "id": "TcmWq89Y7Uaa"
      },
      "execution_count": null,
      "outputs": []
    },
    {
      "cell_type": "markdown",
      "source": [
        "2 - Duas formas de selecionar os dados por bairro (consultar os métodos na documentação do pandas)"
      ],
      "metadata": {
        "id": "-sBmtetzWzA8"
      }
    },
    {
      "cell_type": "code",
      "source": [
        "# Desafio 2.1\n",
        "dados.loc[dados['Bairro']=='Vila Mariana']"
      ],
      "metadata": {
        "colab": {
          "base_uri": "https://localhost:8080/",
          "height": 423
        },
        "id": "IvX1yj5rfjB0",
        "outputId": "91b2ee91-c110-4a97-83bc-301aafe19642"
      },
      "execution_count": null,
      "outputs": [
        {
          "output_type": "execute_result",
          "data": {
            "text/plain": [
              "                               Rua        Bairro     Cidade  Metragem  \\\n",
              "100               Rua Pero Correia  Vila Mariana  São Paulo       250   \n",
              "120   Praça Doutor Carvalho Franco  Vila Mariana  São Paulo       250   \n",
              "155     Rua Professor João Marinho  Vila Mariana  São Paulo       170   \n",
              "160                            NaN  Vila Mariana  São Paulo       228   \n",
              "334         Rua Pero Correia, 892   Vila Mariana  São Paulo       350   \n",
              "...                            ...           ...        ...       ...   \n",
              "9645               Rua Sousa Ramos  Vila Mariana  São Paulo       285   \n",
              "9701             Rua Benito Juarez  Vila Mariana  São Paulo       171   \n",
              "9737             Rua Benito Juarez  Vila Mariana  São Paulo       171   \n",
              "9807                           NaN  Vila Mariana  São Paulo       275   \n",
              "9852              Rua França Pinto  Vila Mariana  São Paulo       280   \n",
              "\n",
              "      Quartos  Banheiros  Vagas         Valor  \n",
              "100         3          3      1  R$ 1.350.000  \n",
              "120         3          5      2  R$ 2.450.000  \n",
              "155         3          4      2  R$ 1.490.000  \n",
              "160         4          5      3  R$ 2.200.000  \n",
              "334         6          4     10  R$ 1.700.000  \n",
              "...       ...        ...    ...           ...  \n",
              "9645        3          5      5  R$ 1.650.000  \n",
              "9701        3          2      4  R$ 1.650.000  \n",
              "9737        3          2      4  R$ 1.650.000  \n",
              "9807        3          1      6  R$ 1.500.000  \n",
              "9852        3          3      4  R$ 1.600.000  \n",
              "\n",
              "[184 rows x 8 columns]"
            ],
            "text/html": [
              "\n",
              "  <div id=\"df-b64c6363-1485-458d-a6a1-3644e2a04b20\">\n",
              "    <div class=\"colab-df-container\">\n",
              "      <div>\n",
              "<style scoped>\n",
              "    .dataframe tbody tr th:only-of-type {\n",
              "        vertical-align: middle;\n",
              "    }\n",
              "\n",
              "    .dataframe tbody tr th {\n",
              "        vertical-align: top;\n",
              "    }\n",
              "\n",
              "    .dataframe thead th {\n",
              "        text-align: right;\n",
              "    }\n",
              "</style>\n",
              "<table border=\"1\" class=\"dataframe\">\n",
              "  <thead>\n",
              "    <tr style=\"text-align: right;\">\n",
              "      <th></th>\n",
              "      <th>Rua</th>\n",
              "      <th>Bairro</th>\n",
              "      <th>Cidade</th>\n",
              "      <th>Metragem</th>\n",
              "      <th>Quartos</th>\n",
              "      <th>Banheiros</th>\n",
              "      <th>Vagas</th>\n",
              "      <th>Valor</th>\n",
              "    </tr>\n",
              "  </thead>\n",
              "  <tbody>\n",
              "    <tr>\n",
              "      <th>100</th>\n",
              "      <td>Rua Pero Correia</td>\n",
              "      <td>Vila Mariana</td>\n",
              "      <td>São Paulo</td>\n",
              "      <td>250</td>\n",
              "      <td>3</td>\n",
              "      <td>3</td>\n",
              "      <td>1</td>\n",
              "      <td>R$ 1.350.000</td>\n",
              "    </tr>\n",
              "    <tr>\n",
              "      <th>120</th>\n",
              "      <td>Praça Doutor Carvalho Franco</td>\n",
              "      <td>Vila Mariana</td>\n",
              "      <td>São Paulo</td>\n",
              "      <td>250</td>\n",
              "      <td>3</td>\n",
              "      <td>5</td>\n",
              "      <td>2</td>\n",
              "      <td>R$ 2.450.000</td>\n",
              "    </tr>\n",
              "    <tr>\n",
              "      <th>155</th>\n",
              "      <td>Rua Professor João Marinho</td>\n",
              "      <td>Vila Mariana</td>\n",
              "      <td>São Paulo</td>\n",
              "      <td>170</td>\n",
              "      <td>3</td>\n",
              "      <td>4</td>\n",
              "      <td>2</td>\n",
              "      <td>R$ 1.490.000</td>\n",
              "    </tr>\n",
              "    <tr>\n",
              "      <th>160</th>\n",
              "      <td>NaN</td>\n",
              "      <td>Vila Mariana</td>\n",
              "      <td>São Paulo</td>\n",
              "      <td>228</td>\n",
              "      <td>4</td>\n",
              "      <td>5</td>\n",
              "      <td>3</td>\n",
              "      <td>R$ 2.200.000</td>\n",
              "    </tr>\n",
              "    <tr>\n",
              "      <th>334</th>\n",
              "      <td>Rua Pero Correia, 892</td>\n",
              "      <td>Vila Mariana</td>\n",
              "      <td>São Paulo</td>\n",
              "      <td>350</td>\n",
              "      <td>6</td>\n",
              "      <td>4</td>\n",
              "      <td>10</td>\n",
              "      <td>R$ 1.700.000</td>\n",
              "    </tr>\n",
              "    <tr>\n",
              "      <th>...</th>\n",
              "      <td>...</td>\n",
              "      <td>...</td>\n",
              "      <td>...</td>\n",
              "      <td>...</td>\n",
              "      <td>...</td>\n",
              "      <td>...</td>\n",
              "      <td>...</td>\n",
              "      <td>...</td>\n",
              "    </tr>\n",
              "    <tr>\n",
              "      <th>9645</th>\n",
              "      <td>Rua Sousa Ramos</td>\n",
              "      <td>Vila Mariana</td>\n",
              "      <td>São Paulo</td>\n",
              "      <td>285</td>\n",
              "      <td>3</td>\n",
              "      <td>5</td>\n",
              "      <td>5</td>\n",
              "      <td>R$ 1.650.000</td>\n",
              "    </tr>\n",
              "    <tr>\n",
              "      <th>9701</th>\n",
              "      <td>Rua Benito Juarez</td>\n",
              "      <td>Vila Mariana</td>\n",
              "      <td>São Paulo</td>\n",
              "      <td>171</td>\n",
              "      <td>3</td>\n",
              "      <td>2</td>\n",
              "      <td>4</td>\n",
              "      <td>R$ 1.650.000</td>\n",
              "    </tr>\n",
              "    <tr>\n",
              "      <th>9737</th>\n",
              "      <td>Rua Benito Juarez</td>\n",
              "      <td>Vila Mariana</td>\n",
              "      <td>São Paulo</td>\n",
              "      <td>171</td>\n",
              "      <td>3</td>\n",
              "      <td>2</td>\n",
              "      <td>4</td>\n",
              "      <td>R$ 1.650.000</td>\n",
              "    </tr>\n",
              "    <tr>\n",
              "      <th>9807</th>\n",
              "      <td>NaN</td>\n",
              "      <td>Vila Mariana</td>\n",
              "      <td>São Paulo</td>\n",
              "      <td>275</td>\n",
              "      <td>3</td>\n",
              "      <td>1</td>\n",
              "      <td>6</td>\n",
              "      <td>R$ 1.500.000</td>\n",
              "    </tr>\n",
              "    <tr>\n",
              "      <th>9852</th>\n",
              "      <td>Rua França Pinto</td>\n",
              "      <td>Vila Mariana</td>\n",
              "      <td>São Paulo</td>\n",
              "      <td>280</td>\n",
              "      <td>3</td>\n",
              "      <td>3</td>\n",
              "      <td>4</td>\n",
              "      <td>R$ 1.600.000</td>\n",
              "    </tr>\n",
              "  </tbody>\n",
              "</table>\n",
              "<p>184 rows × 8 columns</p>\n",
              "</div>\n",
              "      <button class=\"colab-df-convert\" onclick=\"convertToInteractive('df-b64c6363-1485-458d-a6a1-3644e2a04b20')\"\n",
              "              title=\"Convert this dataframe to an interactive table.\"\n",
              "              style=\"display:none;\">\n",
              "        \n",
              "  <svg xmlns=\"http://www.w3.org/2000/svg\" height=\"24px\"viewBox=\"0 0 24 24\"\n",
              "       width=\"24px\">\n",
              "    <path d=\"M0 0h24v24H0V0z\" fill=\"none\"/>\n",
              "    <path d=\"M18.56 5.44l.94 2.06.94-2.06 2.06-.94-2.06-.94-.94-2.06-.94 2.06-2.06.94zm-11 1L8.5 8.5l.94-2.06 2.06-.94-2.06-.94L8.5 2.5l-.94 2.06-2.06.94zm10 10l.94 2.06.94-2.06 2.06-.94-2.06-.94-.94-2.06-.94 2.06-2.06.94z\"/><path d=\"M17.41 7.96l-1.37-1.37c-.4-.4-.92-.59-1.43-.59-.52 0-1.04.2-1.43.59L10.3 9.45l-7.72 7.72c-.78.78-.78 2.05 0 2.83L4 21.41c.39.39.9.59 1.41.59.51 0 1.02-.2 1.41-.59l7.78-7.78 2.81-2.81c.8-.78.8-2.07 0-2.86zM5.41 20L4 18.59l7.72-7.72 1.47 1.35L5.41 20z\"/>\n",
              "  </svg>\n",
              "      </button>\n",
              "      \n",
              "  <style>\n",
              "    .colab-df-container {\n",
              "      display:flex;\n",
              "      flex-wrap:wrap;\n",
              "      gap: 12px;\n",
              "    }\n",
              "\n",
              "    .colab-df-convert {\n",
              "      background-color: #E8F0FE;\n",
              "      border: none;\n",
              "      border-radius: 50%;\n",
              "      cursor: pointer;\n",
              "      display: none;\n",
              "      fill: #1967D2;\n",
              "      height: 32px;\n",
              "      padding: 0 0 0 0;\n",
              "      width: 32px;\n",
              "    }\n",
              "\n",
              "    .colab-df-convert:hover {\n",
              "      background-color: #E2EBFA;\n",
              "      box-shadow: 0px 1px 2px rgba(60, 64, 67, 0.3), 0px 1px 3px 1px rgba(60, 64, 67, 0.15);\n",
              "      fill: #174EA6;\n",
              "    }\n",
              "\n",
              "    [theme=dark] .colab-df-convert {\n",
              "      background-color: #3B4455;\n",
              "      fill: #D2E3FC;\n",
              "    }\n",
              "\n",
              "    [theme=dark] .colab-df-convert:hover {\n",
              "      background-color: #434B5C;\n",
              "      box-shadow: 0px 1px 3px 1px rgba(0, 0, 0, 0.15);\n",
              "      filter: drop-shadow(0px 1px 2px rgba(0, 0, 0, 0.3));\n",
              "      fill: #FFFFFF;\n",
              "    }\n",
              "  </style>\n",
              "\n",
              "      <script>\n",
              "        const buttonEl =\n",
              "          document.querySelector('#df-b64c6363-1485-458d-a6a1-3644e2a04b20 button.colab-df-convert');\n",
              "        buttonEl.style.display =\n",
              "          google.colab.kernel.accessAllowed ? 'block' : 'none';\n",
              "\n",
              "        async function convertToInteractive(key) {\n",
              "          const element = document.querySelector('#df-b64c6363-1485-458d-a6a1-3644e2a04b20');\n",
              "          const dataTable =\n",
              "            await google.colab.kernel.invokeFunction('convertToInteractive',\n",
              "                                                     [key], {});\n",
              "          if (!dataTable) return;\n",
              "\n",
              "          const docLinkHtml = 'Like what you see? Visit the ' +\n",
              "            '<a target=\"_blank\" href=https://colab.research.google.com/notebooks/data_table.ipynb>data table notebook</a>'\n",
              "            + ' to learn more about interactive tables.';\n",
              "          element.innerHTML = '';\n",
              "          dataTable['output_type'] = 'display_data';\n",
              "          await google.colab.output.renderOutput(dataTable, element);\n",
              "          const docLink = document.createElement('div');\n",
              "          docLink.innerHTML = docLinkHtml;\n",
              "          element.appendChild(docLink);\n",
              "        }\n",
              "      </script>\n",
              "    </div>\n",
              "  </div>\n",
              "  "
            ]
          },
          "metadata": {},
          "execution_count": 44
        }
      ]
    },
    {
      "cell_type": "code",
      "source": [
        "# Desafio 2.2\n",
        "bairros = pd.Series()\n",
        "# bairros = pd.Series(['Vila Mariana'], name='Bairro')\n",
        "# dados['Bairro']"
      ],
      "metadata": {
        "colab": {
          "base_uri": "https://localhost:8080/"
        },
        "id": "o7mUku8BO5Ae",
        "outputId": "88db700b-1624-417a-a70d-280a7c149d0f"
      },
      "execution_count": null,
      "outputs": [
        {
          "output_type": "stream",
          "name": "stderr",
          "text": [
            "/usr/local/lib/python3.7/dist-packages/ipykernel_launcher.py:2: DeprecationWarning: The default dtype for empty Series will be 'object' instead of 'float64' in a future version. Specify a dtype explicitly to silence this warning.\n",
            "  \n"
          ]
        }
      ]
    },
    {
      "cell_type": "markdown",
      "source": [
        "3 - Explorar alguns gráficos na documentação e aplicar nas demais colunas  do DF, tentar colocar alguma conclusão"
      ],
      "metadata": {
        "id": "d4ZeFJ00W3Rk"
      }
    },
    {
      "cell_type": "code",
      "source": [
        "#Desafio 3\n",
        "valor_imoveis_bairro = dados.groupby('Bairro')['Valor'].mean()\n",
        "valor_imoveis_bairro"
      ],
      "metadata": {
        "id": "3k-QinUlPZ4v"
      },
      "execution_count": null,
      "outputs": []
    },
    {
      "cell_type": "markdown",
      "source": [
        "4 - Pegar outras estatísticas dos dados, média, mediana, min, max"
      ],
      "metadata": {
        "id": "Ld_zvE-yW6ZN"
      }
    },
    {
      "cell_type": "code",
      "source": [
        "# Desafio 4\n",
        "dados.describe()"
      ],
      "metadata": {
        "id": "GZq1-77a5sVR"
      },
      "execution_count": null,
      "outputs": []
    },
    {
      "cell_type": "markdown",
      "source": [
        "5 - Descobrir quais são os bairros que não tem nome de Rua"
      ],
      "metadata": {
        "id": "52CPIraWSOG1"
      }
    },
    {
      "cell_type": "code",
      "source": [
        "# Desafio 5\n",
        "\n",
        "dados.loc[dados['Bairro']]"
      ],
      "metadata": {
        "id": "CE61svVcR6Im"
      },
      "execution_count": null,
      "outputs": []
    }
  ]
}